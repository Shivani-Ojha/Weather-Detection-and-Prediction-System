{
 "cells": [
  {
   "cell_type": "code",
   "execution_count": 27,
   "id": "18b47d13",
   "metadata": {},
   "outputs": [],
   "source": [
    "import pandas as pd\n",
    "import seaborn as sns"
   ]
  },
  {
   "cell_type": "code",
   "execution_count": 28,
   "id": "8a0a5fd3",
   "metadata": {},
   "outputs": [
    {
     "name": "stdout",
     "output_type": "stream",
     "text": [
      "       Date/Time  Temp_C  Dew Point Temp_C  Rel Hum_%  Wind Speed_km/h  \\\n",
      "0  1/1/2012 0:00    -1.8              -3.9         86                4   \n",
      "1  1/1/2012 1:00    -1.8              -3.7         87                4   \n",
      "2  1/1/2012 2:00    -1.8              -3.4         89                7   \n",
      "3  1/1/2012 3:00    -1.5              -3.2         88                6   \n",
      "4  1/1/2012 4:00    -1.5              -3.3         88                7   \n",
      "\n",
      "   Visibility_km  Press_kPa               Weather  \n",
      "0            8.0     101.24                   Fog  \n",
      "1            8.0     101.24                   Fog  \n",
      "2            4.0     101.26  Freezing Drizzle,Fog  \n",
      "3            4.0     101.27  Freezing Drizzle,Fog  \n",
      "4            4.8     101.23                   Fog  \n",
      "(8784, 8)\n"
     ]
    }
   ],
   "source": [
    "data=pd.read_csv(\"D:\\\\college notes\\\\6 sem notes\\\\Data mining\\\\Dataset11-Weather-Data.csv\")\n",
    "print(data.head())\n",
    "print(data.shape)"
   ]
  },
  {
   "cell_type": "code",
   "execution_count": 29,
   "id": "72909165",
   "metadata": {},
   "outputs": [
    {
     "name": "stdout",
     "output_type": "stream",
     "text": [
      "Mainly Clear                               2106\n",
      "Mostly Cloudy                              2069\n",
      "Cloudy                                     1728\n",
      "Clear                                      1326\n",
      "Snow                                        390\n",
      "Rain                                        306\n",
      "Rain Showers                                188\n",
      "Fog                                         150\n",
      "Rain,Fog                                    116\n",
      "Drizzle,Fog                                  80\n",
      "Snow Showers                                 60\n",
      "Drizzle                                      41\n",
      "Snow,Fog                                     37\n",
      "Snow,Blowing Snow                            19\n",
      "Rain,Snow                                    18\n",
      "Thunderstorms,Rain Showers                   16\n",
      "Haze                                         16\n",
      "Drizzle,Snow,Fog                             15\n",
      "Freezing Rain                                14\n",
      "Freezing Drizzle,Snow                        11\n",
      "Freezing Drizzle                              7\n",
      "Snow,Ice Pellets                              6\n",
      "Freezing Drizzle,Fog                          6\n",
      "Snow,Haze                                     5\n",
      "Freezing Fog                                  4\n",
      "Snow Showers,Fog                              4\n",
      "Moderate Snow                                 4\n",
      "Rain,Snow,Ice Pellets                         4\n",
      "Freezing Rain,Fog                             4\n",
      "Freezing Drizzle,Haze                         3\n",
      "Rain,Haze                                     3\n",
      "Thunderstorms,Rain                            3\n",
      "Thunderstorms,Rain Showers,Fog                3\n",
      "Freezing Rain,Haze                            2\n",
      "Drizzle,Snow                                  2\n",
      "Rain Showers,Snow Showers                     2\n",
      "Thunderstorms                                 2\n",
      "Moderate Snow,Blowing Snow                    2\n",
      "Rain Showers,Fog                              1\n",
      "Thunderstorms,Moderate Rain Showers,Fog       1\n",
      "Snow Pellets                                  1\n",
      "Rain,Snow,Fog                                 1\n",
      "Moderate Rain,Fog                             1\n",
      "Freezing Rain,Ice Pellets,Fog                 1\n",
      "Drizzle,Ice Pellets,Fog                       1\n",
      "Thunderstorms,Rain,Fog                        1\n",
      "Rain,Ice Pellets                              1\n",
      "Rain,Snow Grains                              1\n",
      "Thunderstorms,Heavy Rain Showers              1\n",
      "Freezing Rain,Snow Grains                     1\n",
      "Name: Weather, dtype: int64\n",
      "50\n"
     ]
    }
   ],
   "source": [
    "print(data.Weather.value_counts())\n",
    "print(data.Weather.nunique())"
   ]
  },
  {
   "cell_type": "markdown",
   "id": "9c9fbed1",
   "metadata": {},
   "source": [
    "## Converting Weather Categories into Standard Categories"
   ]
  },
  {
   "cell_type": "code",
   "execution_count": 30,
   "id": "7d4047c1",
   "metadata": {},
   "outputs": [
    {
     "name": "stdout",
     "output_type": "stream",
     "text": [
      "['Thunderstorms', 'Moderate', 'Rain', 'Showers', 'Fog']\n"
     ]
    }
   ],
   "source": [
    "from itertools import chain\n",
    "x=\"Thunderstorms, Moderate Rain Showers, Fog\"\n",
    "def Create_list(x):\n",
    "    list_of_lists=[w.split() for w in x.split(\",\")]\n",
    "    flat_list=list(chain(*list_of_lists))\n",
    "    return flat_list\n",
    "\n",
    "def Get_Weather(list1):\n",
    "    if \"Fog\" in list1 and \"Rain\" in list1:\n",
    "        return \"RAIN+FOG\"\n",
    "    elif \"Snow\" in list1 and \"Rain\" in list1:\n",
    "        return \"SNOW+RAIN\"\n",
    "    elif \"Snow\" in list1:\n",
    "        return \"SNOW\"\n",
    "    elif \"Rain\" in list1:\n",
    "        return \"RAIN\"\n",
    "    elif \"Fog\" in list1:\n",
    "        return \"FOG\"\n",
    "    elif \"Clear\" in list1:\n",
    "        return \"CLEAR\"\n",
    "    elif \"Cloudy\" in list1:\n",
    "        return \"CLOUDY\"\n",
    "    else:\n",
    "        return \"RAIN\"\n",
    "print(Create_list(x))"
   ]
  },
  {
   "cell_type": "code",
   "execution_count": 31,
   "id": "d23eeba1",
   "metadata": {},
   "outputs": [
    {
     "data": {
      "text/plain": [
       "CLOUDY       3797\n",
       "CLEAR        3432\n",
       "RAIN          603\n",
       "SNOW          556\n",
       "FOG           241\n",
       "RAIN+FOG      129\n",
       "SNOW+RAIN      26\n",
       "Name: Std_Weather, dtype: int64"
      ]
     },
     "execution_count": 31,
     "metadata": {},
     "output_type": "execute_result"
    }
   ],
   "source": [
    "data[\"Std_Weather\"]=data[\"Weather\"].apply(\n",
    "    lambda x : Get_Weather(Create_list(x)))\n",
    "data.Std_Weather.value_counts()"
   ]
  },
  {
   "cell_type": "markdown",
   "id": "15615a16",
   "metadata": {},
   "source": [
    "## Sample Selection and Data Balancing"
   ]
  },
  {
   "cell_type": "code",
   "execution_count": 32,
   "id": "42702028",
   "metadata": {},
   "outputs": [],
   "source": [
    "cloudy_df_sample=data[data[\"Std_Weather\"]==\"CLOUDY\"].sample(600)\n",
    "clear_df=data[data['Std_Weather'] == 'CLEAR'].sample(600)\n",
    "rain_df = data[data['Std_Weather'] ==\"RAIN\"]\n",
    "snow_df = data[data[\"Std_Weather\"]==\"SNOW\"]\n",
    "fog_df = data[data[\"Std_Weather\"]==\"FOG\"]"
   ]
  },
  {
   "cell_type": "markdown",
   "id": "d9f78695",
   "metadata": {},
   "source": [
    "## Create new Weather Dataset"
   ]
  },
  {
   "cell_type": "code",
   "execution_count": 33,
   "id": "942be26f",
   "metadata": {},
   "outputs": [
    {
     "name": "stdout",
     "output_type": "stream",
     "text": [
      "(2600, 9)\n",
      "RAIN      603\n",
      "CLOUDY    600\n",
      "CLEAR     600\n",
      "SNOW      556\n",
      "FOG       241\n",
      "Name: Std_Weather, dtype: int64\n"
     ]
    }
   ],
   "source": [
    "weather_df = pd.concat([\n",
    "    cloudy_df_sample,clear_df,rain_df,snow_df,fog_df], axis=0)\n",
    "print(weather_df.shape)\n",
    "print(weather_df.Std_Weather.value_counts())"
   ]
  },
  {
   "cell_type": "markdown",
   "id": "faf506bd",
   "metadata": {},
   "source": [
    "## Drop Cloumns data and Weather"
   ]
  },
  {
   "cell_type": "code",
   "execution_count": 34,
   "id": "10501eff",
   "metadata": {},
   "outputs": [],
   "source": [
    "weather_df.drop(columns = ['Date/Time', 'Weather'],axis=1,inplace=True)"
   ]
  },
  {
   "cell_type": "markdown",
   "id": "77f3ac08",
   "metadata": {},
   "source": [
    "## NUll / Missing Values"
   ]
  },
  {
   "cell_type": "code",
   "execution_count": 35,
   "id": "3324bc8d",
   "metadata": {},
   "outputs": [
    {
     "data": {
      "text/plain": [
       "Temp_C              0\n",
       "Dew Point Temp_C    0\n",
       "Rel Hum_%           0\n",
       "Wind Speed_km/h     0\n",
       "Visibility_km       0\n",
       "Press_kPa           0\n",
       "Std_Weather         0\n",
       "dtype: int64"
      ]
     },
     "execution_count": 35,
     "metadata": {},
     "output_type": "execute_result"
    }
   ],
   "source": [
    "weather_df.isnull().sum()"
   ]
  },
  {
   "cell_type": "markdown",
   "id": "3ee656ef",
   "metadata": {},
   "source": [
    "## Data Visualization"
   ]
  },
  {
   "cell_type": "markdown",
   "id": "edc64fd2",
   "metadata": {},
   "source": [
    "## Correlation among the features"
   ]
  },
  {
   "cell_type": "code",
   "execution_count": 36,
   "id": "c86b952c",
   "metadata": {},
   "outputs": [
    {
     "data": {
      "text/html": [
       "<div>\n",
       "<style scoped>\n",
       "    .dataframe tbody tr th:only-of-type {\n",
       "        vertical-align: middle;\n",
       "    }\n",
       "\n",
       "    .dataframe tbody tr th {\n",
       "        vertical-align: top;\n",
       "    }\n",
       "\n",
       "    .dataframe thead th {\n",
       "        text-align: right;\n",
       "    }\n",
       "</style>\n",
       "<table border=\"1\" class=\"dataframe\">\n",
       "  <thead>\n",
       "    <tr style=\"text-align: right;\">\n",
       "      <th></th>\n",
       "      <th>Temp_C</th>\n",
       "      <th>Dew Point Temp_C</th>\n",
       "      <th>Rel Hum_%</th>\n",
       "      <th>Wind Speed_km/h</th>\n",
       "      <th>Visibility_km</th>\n",
       "      <th>Press_kPa</th>\n",
       "    </tr>\n",
       "  </thead>\n",
       "  <tbody>\n",
       "    <tr>\n",
       "      <th>Temp_C</th>\n",
       "      <td>1.000000</td>\n",
       "      <td>0.942619</td>\n",
       "      <td>-0.212149</td>\n",
       "      <td>-0.120101</td>\n",
       "      <td>0.366524</td>\n",
       "      <td>-0.093406</td>\n",
       "    </tr>\n",
       "    <tr>\n",
       "      <th>Dew Point Temp_C</th>\n",
       "      <td>0.942619</td>\n",
       "      <td>1.000000</td>\n",
       "      <td>0.120493</td>\n",
       "      <td>-0.139562</td>\n",
       "      <td>0.146003</td>\n",
       "      <td>-0.184420</td>\n",
       "    </tr>\n",
       "    <tr>\n",
       "      <th>Rel Hum_%</th>\n",
       "      <td>-0.212149</td>\n",
       "      <td>0.120493</td>\n",
       "      <td>1.000000</td>\n",
       "      <td>-0.055551</td>\n",
       "      <td>-0.691119</td>\n",
       "      <td>-0.271327</td>\n",
       "    </tr>\n",
       "    <tr>\n",
       "      <th>Wind Speed_km/h</th>\n",
       "      <td>-0.120101</td>\n",
       "      <td>-0.139562</td>\n",
       "      <td>-0.055551</td>\n",
       "      <td>1.000000</td>\n",
       "      <td>-0.041089</td>\n",
       "      <td>-0.391709</td>\n",
       "    </tr>\n",
       "    <tr>\n",
       "      <th>Visibility_km</th>\n",
       "      <td>0.366524</td>\n",
       "      <td>0.146003</td>\n",
       "      <td>-0.691119</td>\n",
       "      <td>-0.041089</td>\n",
       "      <td>1.000000</td>\n",
       "      <td>0.262238</td>\n",
       "    </tr>\n",
       "    <tr>\n",
       "      <th>Press_kPa</th>\n",
       "      <td>-0.093406</td>\n",
       "      <td>-0.184420</td>\n",
       "      <td>-0.271327</td>\n",
       "      <td>-0.391709</td>\n",
       "      <td>0.262238</td>\n",
       "      <td>1.000000</td>\n",
       "    </tr>\n",
       "  </tbody>\n",
       "</table>\n",
       "</div>"
      ],
      "text/plain": [
       "                    Temp_C  Dew Point Temp_C  Rel Hum_%  Wind Speed_km/h  \\\n",
       "Temp_C            1.000000          0.942619  -0.212149        -0.120101   \n",
       "Dew Point Temp_C  0.942619          1.000000   0.120493        -0.139562   \n",
       "Rel Hum_%        -0.212149          0.120493   1.000000        -0.055551   \n",
       "Wind Speed_km/h  -0.120101         -0.139562  -0.055551         1.000000   \n",
       "Visibility_km     0.366524          0.146003  -0.691119        -0.041089   \n",
       "Press_kPa        -0.093406         -0.184420  -0.271327        -0.391709   \n",
       "\n",
       "                  Visibility_km  Press_kPa  \n",
       "Temp_C                 0.366524  -0.093406  \n",
       "Dew Point Temp_C       0.146003  -0.184420  \n",
       "Rel Hum_%             -0.691119  -0.271327  \n",
       "Wind Speed_km/h       -0.041089  -0.391709  \n",
       "Visibility_km          1.000000   0.262238  \n",
       "Press_kPa              0.262238   1.000000  "
      ]
     },
     "execution_count": 36,
     "metadata": {},
     "output_type": "execute_result"
    }
   ],
   "source": [
    "cols=['Temp_C', 'Dew Point Temp_C', 'Rel Hum_%', 'Wind Speed_km/h', \n",
    "      'Visibility_km','Press_kPa']\n",
    "cor_matrix=weather_df[cols].corr()\n",
    "cor_matrix"
   ]
  },
  {
   "cell_type": "markdown",
   "id": "a578a4e6",
   "metadata": {},
   "source": [
    "## Heat Map"
   ]
  },
  {
   "cell_type": "code",
   "execution_count": 37,
   "id": "cd35c7e6",
   "metadata": {},
   "outputs": [
    {
     "data": {
      "text/plain": [
       "<AxesSubplot:>"
      ]
     },
     "execution_count": 37,
     "metadata": {},
     "output_type": "execute_result"
    },
    {
     "data": {
      "image/png": "[encoded data removed]",
      "text/plain": [
       "<Figure size 432x288 with 2 Axes>"
      ]
     },
     "metadata": {
      "needs_background": "light"
     },
     "output_type": "display_data"
    }
   ],
   "source": [
    "sns.heatmap(cor_matrix, annot=True)"
   ]
  },
  {
   "cell_type": "markdown",
   "id": "1e42409f",
   "metadata": {},
   "source": [
    "## Label Encoding"
   ]
  },
  {
   "cell_type": "markdown",
   "id": "1a69a836",
   "metadata": {},
   "source": [
    "converting target variable into numeric"
   ]
  },
  {
   "cell_type": "code",
   "execution_count": 38,
   "id": "df70da73",
   "metadata": {},
   "outputs": [
    {
     "data": {
      "text/plain": [
       "(             Date/Time  Temp_C  Dew Point Temp_C  Rel Hum_%  Wind Speed_km/h  \\\n",
       " 182     1/8/2012 14:00    -6.5             -12.0         65               19   \n",
       " 6640   10/3/2012 16:00    19.2              14.2         73               11   \n",
       " 7801   11/21/2012 1:00     0.6              -2.3         81                6   \n",
       " 5460   8/15/2012 12:00    23.7              17.8         70                7   \n",
       " 7862  11/23/2012 14:00    10.4               1.5         54               24   \n",
       " ...                ...     ...               ...        ...              ...   \n",
       " 6694   10/5/2012 22:00    17.4              12.1         71               19   \n",
       " 1156    2/18/2012 4:00    -0.3              -4.9         71               22   \n",
       " 973    2/10/2012 13:00     1.3              -4.7         64               24   \n",
       " 3338    5/19/2012 2:00    13.1               8.3         73                7   \n",
       " 7535   11/9/2012 23:00     4.0               0.8         80               15   \n",
       " \n",
       "       Visibility_km  Press_kPa        Weather Std_Weather  \n",
       " 182            24.1     101.97  Mostly Cloudy      CLOUDY  \n",
       " 6640           24.1     101.42         Cloudy      CLOUDY  \n",
       " 7801           25.0     101.82  Mostly Cloudy      CLOUDY  \n",
       " 5460           24.1     100.73  Mostly Cloudy      CLOUDY  \n",
       " 7862           48.3      99.71         Cloudy      CLOUDY  \n",
       " ...             ...        ...            ...         ...  \n",
       " 6694           25.0     100.54         Cloudy      CLOUDY  \n",
       " 1156           25.0     100.74  Mostly Cloudy      CLOUDY  \n",
       " 973            24.1     100.92         Cloudy      CLOUDY  \n",
       " 3338           25.0     101.68  Mostly Cloudy      CLOUDY  \n",
       " 7535           25.0     101.50  Mostly Cloudy      CLOUDY  \n",
       " \n",
       " [600 rows x 9 columns],\n",
       "              Date/Time  Temp_C  Dew Point Temp_C  Rel Hum_%  Wind Speed_km/h  \\\n",
       " 1902    3/20/2012 6:00     3.2              -0.6         76                4   \n",
       " 6765   10/8/2012 21:00     7.3               2.7         73                9   \n",
       " 5478    8/16/2012 6:00    18.2              15.7         85                0   \n",
       " 7818  11/21/2012 18:00     2.1              -1.0         80                6   \n",
       " 3835    6/8/2012 19:00    19.0              12.0         64               15   \n",
       " ...                ...     ...               ...        ...              ...   \n",
       " 3501   5/25/2012 21:00    22.1              18.5         80               15   \n",
       " 6416    9/24/2012 8:00     9.9               7.5         85               13   \n",
       " 4784    7/18/2012 8:00    21.1              14.4         66               22   \n",
       " 7726  11/17/2012 22:00    -1.0              -6.3         67                7   \n",
       " 3848     6/9/2012 8:00    18.4               8.9         54                4   \n",
       " \n",
       "       Visibility_km  Press_kPa       Weather Std_Weather  \n",
       " 1902           24.1     101.97         Clear       CLEAR  \n",
       " 6765           25.0     102.08  Mainly Clear       CLEAR  \n",
       " 5478           48.3     100.85  Mainly Clear       CLEAR  \n",
       " 7818           25.0     101.89  Mainly Clear       CLEAR  \n",
       " 3835           24.1     100.28  Mainly Clear       CLEAR  \n",
       " ...             ...        ...           ...         ...  \n",
       " 3501           25.0     100.79  Mainly Clear       CLEAR  \n",
       " 6416           48.3     101.51  Mainly Clear       CLEAR  \n",
       " 4784           24.1     100.66  Mainly Clear       CLEAR  \n",
       " 7726           25.0     103.54         Clear       CLEAR  \n",
       " 3848           48.3     100.79  Mainly Clear       CLEAR  \n",
       " \n",
       " [600 rows x 9 columns],\n",
       "              Date/Time  Temp_C  Dew Point Temp_C  Rel Hum_%  Wind Speed_km/h  \\\n",
       " 18      1/1/2012 18:00     3.8               1.0         82               15   \n",
       " 19      1/1/2012 19:00     3.1               1.3         88               15   \n",
       " 22      1/1/2012 22:00     4.4               1.9         84               24   \n",
       " 24       1/2/2012 0:00     5.2               1.5         77               35   \n",
       " 154     1/7/2012 10:00    -5.7              -8.0         84                7   \n",
       " ...                ...     ...               ...        ...              ...   \n",
       " 8538  12/21/2012 18:00     1.4               0.3         92               46   \n",
       " 8539  12/21/2012 19:00     2.3               1.1         92               37   \n",
       " 8540  12/21/2012 20:00     2.4               1.7         95               15   \n",
       " 8541  12/21/2012 21:00     1.3               0.4         94               22   \n",
       " 8545   12/22/2012 1:00     1.2               0.1         92               30   \n",
       " \n",
       "       Visibility_km  Press_kPa        Weather Std_Weather  \n",
       " 18             12.9      99.74           Rain        RAIN  \n",
       " 19             12.9      99.68           Rain        RAIN  \n",
       " 22             19.3      99.32   Rain Showers        RAIN  \n",
       " 24             25.0      99.26   Rain Showers        RAIN  \n",
       " 154             8.0     100.13  Freezing Rain        RAIN  \n",
       " ...             ...        ...            ...         ...  \n",
       " 8538           25.0      97.56           Rain        RAIN  \n",
       " 8539           11.3      97.52           Rain        RAIN  \n",
       " 8540            9.7      97.58           Rain        RAIN  \n",
       " 8541            9.7      97.64           Rain        RAIN  \n",
       " 8545           12.9      97.84        Drizzle        RAIN  \n",
       " \n",
       " [603 rows x 9 columns],\n",
       "              Date/Time  Temp_C  Dew Point Temp_C  Rel Hum_%  Wind Speed_km/h  \\\n",
       " 41      1/2/2012 17:00    -2.1              -9.5         57               22   \n",
       " 44      1/2/2012 20:00    -5.6             -13.4         54               24   \n",
       " 45      1/2/2012 21:00    -5.8             -12.8         58               26   \n",
       " 47      1/2/2012 23:00    -7.4             -14.1         59               17   \n",
       " 48       1/3/2012 0:00    -9.0             -16.0         57               28   \n",
       " ...                ...     ...               ...        ...              ...   \n",
       " 8779  12/31/2012 19:00     0.1              -2.7         81               30   \n",
       " 8780  12/31/2012 20:00     0.2              -2.4         83               24   \n",
       " 8781  12/31/2012 21:00    -0.5              -1.5         93               28   \n",
       " 8782  12/31/2012 22:00    -0.2              -1.8         89               28   \n",
       " 8783  12/31/2012 23:00     0.0              -2.1         86               30   \n",
       " \n",
       "       Visibility_km  Press_kPa       Weather Std_Weather  \n",
       " 41             25.0      99.66  Snow Showers        SNOW  \n",
       " 44             25.0     100.07  Snow Showers        SNOW  \n",
       " 45             25.0     100.15  Snow Showers        SNOW  \n",
       " 47             19.3     100.27  Snow Showers        SNOW  \n",
       " 48             25.0     100.35  Snow Showers        SNOW  \n",
       " ...             ...        ...           ...         ...  \n",
       " 8779            9.7     100.13          Snow        SNOW  \n",
       " 8780            9.7     100.03          Snow        SNOW  \n",
       " 8781            4.8      99.95          Snow        SNOW  \n",
       " 8782            9.7      99.91          Snow        SNOW  \n",
       " 8783           11.3      99.89          Snow        SNOW  \n",
       " \n",
       " [556 rows x 9 columns],\n",
       "              Date/Time  Temp_C  Dew Point Temp_C  Rel Hum_%  Wind Speed_km/h  \\\n",
       " 0        1/1/2012 0:00    -1.8              -3.9         86                4   \n",
       " 1        1/1/2012 1:00    -1.8              -3.7         87                4   \n",
       " 2        1/1/2012 2:00    -1.8              -3.4         89                7   \n",
       " 3        1/1/2012 3:00    -1.5              -3.2         88                6   \n",
       " 4        1/1/2012 4:00    -1.5              -3.3         88                7   \n",
       " ...                ...     ...               ...        ...              ...   \n",
       " 8716   12/29/2012 4:00   -16.0             -17.2         90                6   \n",
       " 8717   12/29/2012 5:00   -14.8             -15.9         91                4   \n",
       " 8718   12/29/2012 6:00   -13.8             -15.3         88                4   \n",
       " 8719   12/29/2012 7:00   -14.8             -16.4         88                7   \n",
       " 8722  12/29/2012 10:00   -12.0             -13.3         90                7   \n",
       " \n",
       "       Visibility_km  Press_kPa               Weather Std_Weather  \n",
       " 0               8.0     101.24                   Fog         FOG  \n",
       " 1               8.0     101.24                   Fog         FOG  \n",
       " 2               4.0     101.26  Freezing Drizzle,Fog         FOG  \n",
       " 3               4.0     101.27  Freezing Drizzle,Fog         FOG  \n",
       " 4               4.8     101.23                   Fog         FOG  \n",
       " ...             ...        ...                   ...         ...  \n",
       " 8716            9.7     101.25                   Fog         FOG  \n",
       " 8717            6.4     101.25                   Fog         FOG  \n",
       " 8718            9.7     101.25                   Fog         FOG  \n",
       " 8719            8.0     101.22                   Fog         FOG  \n",
       " 8722            6.4     101.15                   Fog         FOG  \n",
       " \n",
       " [241 rows x 9 columns])"
      ]
     },
     "execution_count": 38,
     "metadata": {},
     "output_type": "execute_result"
    }
   ],
   "source": [
    "from sklearn.preprocessing import LabelEncoder\n",
    "label_Encoder = LabelEncoder()\n",
    "weather_df['Std_Weather']=label_Encoder.fit_transform(\n",
    "    weather_df['Std_Weather'])\n",
    "weather_df.head(100)\n",
    "weather_df['Std_Weather'].unique()\n",
    "cloudy_df_sample,clear_df,rain_df,snow_df,fog_df"
   ]
  },
  {
   "cell_type": "markdown",
   "id": "52ec371b",
   "metadata": {},
   "source": [
    "## x,y variables"
   ]
  },
  {
   "cell_type": "code",
   "execution_count": 39,
   "id": "8751277c",
   "metadata": {},
   "outputs": [
    {
     "name": "stdout",
     "output_type": "stream",
     "text": [
      "      Temp_C  Dew Point Temp_C  Rel Hum_%  Wind Speed_km/h  Visibility_km  \\\n",
      "182     -6.5             -12.0         65               19           24.1   \n",
      "6640    19.2              14.2         73               11           24.1   \n",
      "7801     0.6              -2.3         81                6           25.0   \n",
      "5460    23.7              17.8         70                7           24.1   \n",
      "7862    10.4               1.5         54               24           48.3   \n",
      "\n",
      "      Press_kPa  \n",
      "182      101.97  \n",
      "6640     101.42  \n",
      "7801     101.82  \n",
      "5460     100.73  \n",
      "7862      99.71  \n",
      "182     1\n",
      "6640    1\n",
      "7801    1\n",
      "5460    1\n",
      "7862    1\n",
      "       ..\n",
      "8716    2\n",
      "8717    2\n",
      "8718    2\n",
      "8719    2\n",
      "8722    2\n",
      "Name: Std_Weather, Length: 2600, dtype: int32\n"
     ]
    }
   ],
   "source": [
    "# Independent Variables\n",
    "x=weather_df.drop([\"Std_Weather\"],axis=1)\n",
    "#Target variables:\n",
    "y=weather_df[\"Std_Weather\"]\n",
    "print(x.head())\n",
    "y.head()\n",
    "print(y)"
   ]
  },
  {
   "cell_type": "markdown",
   "id": "4255019e",
   "metadata": {},
   "source": [
    "## Feature Scaling"
   ]
  },
  {
   "cell_type": "code",
   "execution_count": 40,
   "id": "02921124",
   "metadata": {},
   "outputs": [
    {
     "data": {
      "text/plain": [
       "array([[-1.18682788, -1.35278116, -0.59801309,  0.32747782,  0.21508684,\n",
       "         1.23474052],\n",
       "       [ 1.15885659,  1.19889402, -0.09501369, -0.5295351 ,  0.21508684,\n",
       "         0.63736561],\n",
       "       [-0.53879832, -0.40807699,  0.40798572, -1.06516817,  0.28508729,\n",
       "         1.07182009],\n",
       "       ...,\n",
       "       [-1.85311179, -1.67417536,  0.84811019, -1.2794214 , -0.90492029,\n",
       "         0.45272246],\n",
       "       [-1.94438356, -1.78130676,  0.84811019, -0.95804155, -1.03714336,\n",
       "         0.42013837],\n",
       "       [-1.68882261, -1.479391  ,  0.97386005, -0.95804155, -1.16158859,\n",
       "         0.34410884]])"
      ]
     },
     "execution_count": 40,
     "metadata": {},
     "output_type": "execute_result"
    }
   ],
   "source": [
    "from sklearn.preprocessing import StandardScaler\n",
    "std_scaler=StandardScaler()\n",
    "X_std=std_scaler.fit_transform(x)\n",
    "X_std"
   ]
  },
  {
   "cell_type": "markdown",
   "id": "932fcfe1",
   "metadata": {},
   "source": [
    "## Splitting Data into training and testing "
   ]
  },
  {
   "cell_type": "code",
   "execution_count": 41,
   "id": "154db860",
   "metadata": {},
   "outputs": [
    {
     "data": {
      "text/plain": [
       "((2080, 6), (520, 6))"
      ]
     },
     "execution_count": 41,
     "metadata": {},
     "output_type": "execute_result"
    }
   ],
   "source": [
    "from sklearn.model_selection import train_test_split\n",
    "x_train,x_test,y_train,y_test=train_test_split(\n",
    "    x,y,test_size=0.2,random_state=42)\n",
    "x_train.shape,x_test.shape"
   ]
  },
  {
   "cell_type": "markdown",
   "id": "d7808fee",
   "metadata": {},
   "source": [
    "## Model Building"
   ]
  },
  {
   "cell_type": "code",
   "execution_count": 42,
   "id": "224f3e3a",
   "metadata": {},
   "outputs": [],
   "source": [
    "from sklearn.linear_model import LogisticRegression\n",
    "from sklearn.tree import DecisionTreeClassifier\n",
    "from sklearn.ensemble import RandomForestClassifier\n",
    "\n",
    "lr_model = LogisticRegression()\n",
    "dt_model=DecisionTreeClassifier()\n",
    "rf_model=RandomForestClassifier()"
   ]
  },
  {
   "cell_type": "markdown",
   "id": "3dc9eace",
   "metadata": {},
   "source": [
    "## Model Training"
   ]
  },
  {
   "cell_type": "code",
   "execution_count": 43,
   "id": "aa01de3d",
   "metadata": {},
   "outputs": [
    {
     "name": "stderr",
     "output_type": "stream",
     "text": [
      "D:\\python\\lib\\site-packages\\sklearn\\linear_model\\_logistic.py:814: ConvergenceWarning: lbfgs failed to converge (status=1):\n",
      "STOP: TOTAL NO. of ITERATIONS REACHED LIMIT.\n",
      "\n",
      "Increase the number of iterations (max_iter) or scale the data as shown in:\n",
      "    https://scikit-learn.org/stable/modules/preprocessing.html\n",
      "Please also refer to the documentation for alternative solver options:\n",
      "    https://scikit-learn.org/stable/modules/linear_model.html#logistic-regression\n",
      "  n_iter_i = _check_optimize_result(\n"
     ]
    },
    {
     "name": "stdout",
     "output_type": "stream",
     "text": [
      "LogisticRegression()\n",
      "DecisionTreeClassifier()\n",
      "RandomForestClassifier()\n"
     ]
    }
   ],
   "source": [
    "print(lr_model.fit(x_train,y_train))\n",
    "print(dt_model.fit(x_train,y_train))\n",
    "print(rf_model.fit(x_train,y_train))"
   ]
  },
  {
   "cell_type": "markdown",
   "id": "1df339ee",
   "metadata": {},
   "source": [
    "## Model Prediction"
   ]
  },
  {
   "cell_type": "code",
   "execution_count": 44,
   "id": "b5d0f464",
   "metadata": {},
   "outputs": [
    {
     "name": "stdout",
     "output_type": "stream",
     "text": [
      "[3 3 0 4 3 4 1 1 0 4 4 3 0 4 1 0 3 3 3 0 4 4 4 3 4 1 4 3 0 0 1 4 0 1 2 3 1\n",
      " 3 4 3 3 0 3 4 4 0 2 3 4 1 1 0 0 3 3 3 4 0 2 1 1 3 0 2 3 3 3 4 3 2 3 0 0 0\n",
      " 3 3 4 0 3 3 4 0 3 1 2 2 0 3 3 3 0 0 1 4 4 3 2 0 0 1 2 3 1 3 1 3 4 0 0 1 0\n",
      " 4 3 4 3 3 0 3 3 1 3 2 0 0 0 3 2 0 0 4 4 1 4 4 4 1 1 4 2 1 4 4 4 0 4 2 1 0\n",
      " 4 3 3 4 3 4 0 4 3 0 1 4 0 3 2 0 0 0 1 4 1 0 1 0 1 1 4 3 0 1 2 4 2 0 0 4 4\n",
      " 0 2 0 4 0 0 3 4 4 3 2 4 3 4 0 1 4 0 0 0 1 3 0 3 0 2 4 4 1 0 0 3 4 3 1 2 3\n",
      " 3 0 4 3 3 1 3 3 3 0 4 2 4 4 4 0 1 0 3 3 2 1 1 3 0 0 0 0 0 0 2 2 2 1 4 4 0\n",
      " 4 4 4 3 4 0 0 1 3 0 2 0 1 0 0 0 2 1 3 3 3 4 0 4 0 2 3 4 4 3 3 0 0 0 4 0 4\n",
      " 4 4 2 4 4 1 0 4 0 1 4 4 4 4 4 3 4 1 3 3 4 0 3 0 3 0 4 3 0 4 1 3 4 4 4 4 0\n",
      " 4 4 1 4 4 0 1 4 3 0 3 1 4 1 3 4 4 3 3 1 1 1 4 4 2 0 0 4 1 1 3 4 1 1 4 0 4\n",
      " 0 0 0 0 4 0 4 1 3 0 3 3 3 4 3 3 0 4 3 1 3 4 4 4 1 4 1 3 1 4 0 2 3 4 3 3 3\n",
      " 0 2 3 3 4 0 2 3 3 4 3 2 0 3 0 4 0 4 3 2 0 3 0 1 0 1 4 1 0 0 2 2 0 1 0 4 1\n",
      " 4 0 0 2 4 3 0 3 0 1 0 0 1 3 1 0 4 3 1 4 1 3 3 3 2 3 3 3 3 2 1 2 3 4 3 4 2\n",
      " 1 4 3 0 1 0 4 0 1 1 4 4 2 4 1 1 1 1 2 3 0 1 4 2 2 3 4 3 3 0 4 0 0 2 4 0 1\n",
      " 0 3]\n"
     ]
    }
   ],
   "source": [
    "y_pred_lr=lr_model.predict(x_test)\n",
    "y_pred_dt=dt_model.predict(x_test)\n",
    "y_pred_rf=rf_model.predict(x_test)\n",
    "print(y_pred_lr)"
   ]
  },
  {
   "cell_type": "code",
   "execution_count": 45,
   "id": "3c0b9297",
   "metadata": {},
   "outputs": [
    {
     "name": "stdout",
     "output_type": "stream",
     "text": [
      "[0]\n"
     ]
    },
    {
     "name": "stderr",
     "output_type": "stream",
     "text": [
      "D:\\python\\lib\\site-packages\\sklearn\\base.py:450: UserWarning: X does not have valid feature names, but DecisionTreeClassifier was fitted with feature names\n",
      "  warnings.warn(\n"
     ]
    }
   ],
   "source": [
    "l = [[25,14,52,6,16,1015]]\n",
    "y_pred = dt_model.predict(l)\n",
    "print(y_pred)"
   ]
  },
  {
   "cell_type": "markdown",
   "id": "cc6b2067",
   "metadata": {},
   "source": [
    "## Model Evaluation"
   ]
  },
  {
   "cell_type": "code",
   "execution_count": 49,
   "id": "3527158e",
   "metadata": {},
   "outputs": [],
   "source": [
    "from sklearn.metrics import (\n",
    "    accuracy_score, confusion_matrix,\n",
    "    accuracy_score, precision_score,\n",
    "    recall_score,f1_score)"
   ]
  },
  {
   "cell_type": "markdown",
   "id": "492dc0b5",
   "metadata": {},
   "source": [
    "## Accuracy"
   ]
  },
  {
   "cell_type": "code",
   "execution_count": 47,
   "id": "1b64f2ef",
   "metadata": {},
   "outputs": [
    {
     "name": "stdout",
     "output_type": "stream",
     "text": [
      "0.5769230769230769\n",
      "0.6192307692307693\n",
      "0.7\n"
     ]
    }
   ],
   "source": [
    "print(accuracy_score(y_test,y_pred_lr))\n",
    "print(accuracy_score(y_test,y_pred_dt))\n",
    "print(accuracy_score(y_test,y_pred_rf))"
   ]
  },
  {
   "cell_type": "markdown",
   "id": "f99ddd3b",
   "metadata": {},
   "source": [
    "## Confusion Matrix"
   ]
  },
  {
   "cell_type": "code",
   "execution_count": 48,
   "id": "f6e4f620",
   "metadata": {},
   "outputs": [
    {
     "name": "stdout",
     "output_type": "stream",
     "text": [
      "AxesSubplot(0.125,0.125;0.62x0.755)\n"
     ]
    },
    {
     "data": {
      "image/png": "[encoded data removed]",
      "text/plain": [
       "<Figure size 432x288 with 2 Axes>"
      ]
     },
     "metadata": {
      "needs_background": "light"
     },
     "output_type": "display_data"
    }
   ],
   "source": [
    "cm_rf=confusion_matrix(y_test,y_pred_rf)\n",
    "print(sns.heatmap(cm_rf,annot=True,fmt='d'))"
   ]
  },
  {
   "cell_type": "code",
   "execution_count": 56,
   "id": "38c357d2",
   "metadata": {},
   "outputs": [
    {
     "name": "stdout",
     "output_type": "stream",
     "text": [
      "Precision = 0.7174\n",
      "Recall = 0.7293\n",
      "F1 Score = 0.7221\n"
     ]
    }
   ],
   "source": [
    "precision = precision_score(y_test,y_pred_rf,average=\"macro\")\n",
    "recall = recall_score(y_test,y_pred_rf,average=\"macro\")\n",
    "f1score = f1_score(y_test,y_pred_rf,average=\"macro\")\n",
    "\n",
    "print(f\"Precision = {precision.round(4)}\")\n",
    "print(f\"Recall = {recall.round(4)}\")\n",
    "print(f\"F1 Score = {f1score.round(4)}\")"
   ]
  },
  {
   "cell_type": "code",
   "execution_count": null,
   "id": "2dd547f4",
   "metadata": {},
   "outputs": [],
   "source": []
  }
 ],
 "metadata": {
  "kernelspec": {
   "display_name": "Python 3 (ipykernel)",
   "language": "python",
   "name": "python3"
  },
  "language_info": {
   "codemirror_mode": {
    "name": "ipython",
    "version": 3
   },
   "file_extension": ".py",
   "mimetype": "text/x-python",
   "name": "python",
   "nbconvert_exporter": "python",
   "pygments_lexer": "ipython3",
   "version": "3.9.12"
  }
 },
 "nbformat": 4,
 "nbformat_minor": 5
}
