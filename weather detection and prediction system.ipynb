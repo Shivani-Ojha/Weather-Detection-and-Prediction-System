{
 "cells": [
  {
   "cell_type": "code",
   "execution_count": 1,
   "id": "18b47d13",
   "metadata": {},
   "outputs": [
    {
     "name": "stderr",
     "output_type": "stream",
     "text": [
      "D:\\python\\lib\\site-packages\\scipy\\__init__.py:146: UserWarning: A NumPy version >=1.16.5 and <1.23.0 is required for this version of SciPy (detected version 1.26.2\n",
      "  warnings.warn(f\"A NumPy version >={np_minversion} and <{np_maxversion}\"\n"
     ]
    }
   ],
   "source": [
    "import pandas as pd\n",
    "import seaborn as sns"
   ]
  },
  {
   "cell_type": "code",
   "execution_count": 2,
   "id": "8a0a5fd3",
   "metadata": {},
   "outputs": [
    {
     "name": "stdout",
     "output_type": "stream",
     "text": [
      "       Date/Time  Temp_C  Dew Point Temp_C  Rel Hum_%  Wind Speed_km/h  \\\n",
      "0  1/1/2012 0:00    -1.8              -3.9         86                4   \n",
      "1  1/1/2012 1:00    -1.8              -3.7         87                4   \n",
      "2  1/1/2012 2:00    -1.8              -3.4         89                7   \n",
      "3  1/1/2012 3:00    -1.5              -3.2         88                6   \n",
      "4  1/1/2012 4:00    -1.5              -3.3         88                7   \n",
      "\n",
      "   Visibility_km  Press_kPa               Weather  \n",
      "0            8.0     101.24                   Fog  \n",
      "1            8.0     101.24                   Fog  \n",
      "2            4.0     101.26  Freezing Drizzle,Fog  \n",
      "3            4.0     101.27  Freezing Drizzle,Fog  \n",
      "4            4.8     101.23                   Fog  \n",
      "(8784, 8)\n"
     ]
    }
   ],
   "source": [
    "data=pd.read_csv(\"D:\\\\college notes\\\\6 sem notes\\\\Data mining\\\\Dataset11-Weather-Data.csv\")\n",
    "print(data.head())\n",
    "print(data.shape)"
   ]
  },
  {
   "cell_type": "code",
   "execution_count": 3,
   "id": "72909165",
   "metadata": {},
   "outputs": [
    {
     "name": "stdout",
     "output_type": "stream",
     "text": [
      "Mainly Clear                               2106\n",
      "Mostly Cloudy                              2069\n",
      "Cloudy                                     1728\n",
      "Clear                                      1326\n",
      "Snow                                        390\n",
      "Rain                                        306\n",
      "Rain Showers                                188\n",
      "Fog                                         150\n",
      "Rain,Fog                                    116\n",
      "Drizzle,Fog                                  80\n",
      "Snow Showers                                 60\n",
      "Drizzle                                      41\n",
      "Snow,Fog                                     37\n",
      "Snow,Blowing Snow                            19\n",
      "Rain,Snow                                    18\n",
      "Thunderstorms,Rain Showers                   16\n",
      "Haze                                         16\n",
      "Drizzle,Snow,Fog                             15\n",
      "Freezing Rain                                14\n",
      "Freezing Drizzle,Snow                        11\n",
      "Freezing Drizzle                              7\n",
      "Snow,Ice Pellets                              6\n",
      "Freezing Drizzle,Fog                          6\n",
      "Snow,Haze                                     5\n",
      "Freezing Fog                                  4\n",
      "Snow Showers,Fog                              4\n",
      "Moderate Snow                                 4\n",
      "Rain,Snow,Ice Pellets                         4\n",
      "Freezing Rain,Fog                             4\n",
      "Freezing Drizzle,Haze                         3\n",
      "Rain,Haze                                     3\n",
      "Thunderstorms,Rain                            3\n",
      "Thunderstorms,Rain Showers,Fog                3\n",
      "Freezing Rain,Haze                            2\n",
      "Drizzle,Snow                                  2\n",
      "Rain Showers,Snow Showers                     2\n",
      "Thunderstorms                                 2\n",
      "Moderate Snow,Blowing Snow                    2\n",
      "Rain Showers,Fog                              1\n",
      "Thunderstorms,Moderate Rain Showers,Fog       1\n",
      "Snow Pellets                                  1\n",
      "Rain,Snow,Fog                                 1\n",
      "Moderate Rain,Fog                             1\n",
      "Freezing Rain,Ice Pellets,Fog                 1\n",
      "Drizzle,Ice Pellets,Fog                       1\n",
      "Thunderstorms,Rain,Fog                        1\n",
      "Rain,Ice Pellets                              1\n",
      "Rain,Snow Grains                              1\n",
      "Thunderstorms,Heavy Rain Showers              1\n",
      "Freezing Rain,Snow Grains                     1\n",
      "Name: Weather, dtype: int64\n",
      "50\n"
     ]
    }
   ],
   "source": [
    "print(data.Weather.value_counts())\n",
    "print(data.Weather.nunique())"
   ]
  },
  {
   "cell_type": "markdown",
   "id": "9c9fbed1",
   "metadata": {},
   "source": [
    "## Converting Weather Categories into Standard Categories"
   ]
  },
  {
   "cell_type": "code",
   "execution_count": 4,
   "id": "7d4047c1",
   "metadata": {},
   "outputs": [
    {
     "name": "stdout",
     "output_type": "stream",
     "text": [
      "['Thunderstorms', 'Moderate', 'Rain', 'Showers', 'Fog']\n"
     ]
    }
   ],
   "source": [
    "from itertools import chain\n",
    "x=\"Thunderstorms, Moderate Rain Showers, Fog\"\n",
    "def Create_list(x):\n",
    "    list_of_lists=[w.split() for w in x.split(\",\")]\n",
    "    flat_list=list(chain(*list_of_lists))\n",
    "    return flat_list\n",
    "\n",
    "def Get_Weather(list1):\n",
    "    if \"Fog\" in list1 and \"Rain\" in list1:\n",
    "        return \"RAIN+FOG\"\n",
    "    elif \"Snow\" in list1 and \"Rain\" in list1:\n",
    "        return \"SNOW+RAIN\"\n",
    "    elif \"Snow\" in list1:\n",
    "        return \"SNOW\"\n",
    "    elif \"Rain\" in list1:\n",
    "        return \"RAIN\"\n",
    "    elif \"Fog\" in list1:\n",
    "        return \"FOG\"\n",
    "    elif \"Clear\" in list1:\n",
    "        return \"CLEAR\"\n",
    "    elif \"Cloudy\" in list1:\n",
    "        return \"CLOUDY\"\n",
    "    else:\n",
    "        return \"RAIN\"\n",
    "print(Create_list(x))"
   ]
  },
  {
   "cell_type": "code",
   "execution_count": 5,
   "id": "d23eeba1",
   "metadata": {},
   "outputs": [
    {
     "data": {
      "text/plain": [
       "CLOUDY       3797\n",
       "CLEAR        3432\n",
       "RAIN          603\n",
       "SNOW          556\n",
       "FOG           241\n",
       "RAIN+FOG      129\n",
       "SNOW+RAIN      26\n",
       "Name: Std_Weather, dtype: int64"
      ]
     },
     "execution_count": 5,
     "metadata": {},
     "output_type": "execute_result"
    }
   ],
   "source": [
    "data[\"Std_Weather\"]=data[\"Weather\"].apply(\n",
    "    lambda x : Get_Weather(Create_list(x)))\n",
    "data.Std_Weather.value_counts()"
   ]
  },
  {
   "cell_type": "markdown",
   "id": "15615a16",
   "metadata": {},
   "source": [
    "## Sample Selection and Data Balancing"
   ]
  },
  {
   "cell_type": "code",
   "execution_count": 6,
   "id": "42702028",
   "metadata": {},
   "outputs": [],
   "source": [
    "cloudy_df_sample=data[data[\"Std_Weather\"]==\"CLOUDY\"].sample(600)\n",
    "clear_df=data[data['Std_Weather'] == 'CLEAR'].sample(600)\n",
    "rain_df = data[data['Std_Weather'] ==\"RAIN\"]\n",
    "snow_df = data[data[\"Std_Weather\"]==\"SNOW\"]\n",
    "fog_df = data[data[\"Std_Weather\"]==\"FOG\"]"
   ]
  },
  {
   "cell_type": "markdown",
   "id": "d9f78695",
   "metadata": {},
   "source": [
    "## Create new Weather Dataset"
   ]
  },
  {
   "cell_type": "code",
   "execution_count": 7,
   "id": "942be26f",
   "metadata": {},
   "outputs": [
    {
     "name": "stdout",
     "output_type": "stream",
     "text": [
      "(2600, 9)\n",
      "RAIN      603\n",
      "CLOUDY    600\n",
      "CLEAR     600\n",
      "SNOW      556\n",
      "FOG       241\n",
      "Name: Std_Weather, dtype: int64\n"
     ]
    }
   ],
   "source": [
    "weather_df = pd.concat([\n",
    "    cloudy_df_sample,clear_df,rain_df,snow_df,fog_df], axis=0)\n",
    "print(weather_df.shape)\n",
    "print(weather_df.Std_Weather.value_counts())"
   ]
  },
  {
   "cell_type": "markdown",
   "id": "faf506bd",
   "metadata": {},
   "source": [
    "## Drop Cloumns data and Weather"
   ]
  },
  {
   "cell_type": "code",
   "execution_count": 8,
   "id": "10501eff",
   "metadata": {},
   "outputs": [],
   "source": [
    "weather_df.drop(columns = ['Date/Time', 'Weather'],axis=1,inplace=True)"
   ]
  },
  {
   "cell_type": "markdown",
   "id": "77f3ac08",
   "metadata": {},
   "source": [
    "## NUll / Missing Values"
   ]
  },
  {
   "cell_type": "code",
   "execution_count": 9,
   "id": "3324bc8d",
   "metadata": {},
   "outputs": [
    {
     "data": {
      "text/plain": [
       "Temp_C              0\n",
       "Dew Point Temp_C    0\n",
       "Rel Hum_%           0\n",
       "Wind Speed_km/h     0\n",
       "Visibility_km       0\n",
       "Press_kPa           0\n",
       "Std_Weather         0\n",
       "dtype: int64"
      ]
     },
     "execution_count": 9,
     "metadata": {},
     "output_type": "execute_result"
    }
   ],
   "source": [
    "weather_df.isnull().sum()"
   ]
  },
  {
   "cell_type": "markdown",
   "id": "3ee656ef",
   "metadata": {},
   "source": [
    "## Data Visualization"
   ]
  },
  {
   "cell_type": "markdown",
   "id": "edc64fd2",
   "metadata": {},
   "source": [
    "## Correlation among the features"
   ]
  },
  {
   "cell_type": "code",
   "execution_count": 10,
   "id": "c86b952c",
   "metadata": {},
   "outputs": [
    {
     "data": {
      "text/html": [
       "<div>\n",
       "<style scoped>\n",
       "    .dataframe tbody tr th:only-of-type {\n",
       "        vertical-align: middle;\n",
       "    }\n",
       "\n",
       "    .dataframe tbody tr th {\n",
       "        vertical-align: top;\n",
       "    }\n",
       "\n",
       "    .dataframe thead th {\n",
       "        text-align: right;\n",
       "    }\n",
       "</style>\n",
       "<table border=\"1\" class=\"dataframe\">\n",
       "  <thead>\n",
       "    <tr style=\"text-align: right;\">\n",
       "      <th></th>\n",
       "      <th>Temp_C</th>\n",
       "      <th>Dew Point Temp_C</th>\n",
       "      <th>Rel Hum_%</th>\n",
       "      <th>Wind Speed_km/h</th>\n",
       "      <th>Visibility_km</th>\n",
       "      <th>Press_kPa</th>\n",
       "    </tr>\n",
       "  </thead>\n",
       "  <tbody>\n",
       "    <tr>\n",
       "      <th>Temp_C</th>\n",
       "      <td>1.000000</td>\n",
       "      <td>0.938822</td>\n",
       "      <td>-0.229234</td>\n",
       "      <td>-0.134863</td>\n",
       "      <td>0.362585</td>\n",
       "      <td>-0.116465</td>\n",
       "    </tr>\n",
       "    <tr>\n",
       "      <th>Dew Point Temp_C</th>\n",
       "      <td>0.938822</td>\n",
       "      <td>1.000000</td>\n",
       "      <td>0.113738</td>\n",
       "      <td>-0.147609</td>\n",
       "      <td>0.130772</td>\n",
       "      <td>-0.213293</td>\n",
       "    </tr>\n",
       "    <tr>\n",
       "      <th>Rel Hum_%</th>\n",
       "      <td>-0.229234</td>\n",
       "      <td>0.113738</td>\n",
       "      <td>1.000000</td>\n",
       "      <td>-0.034823</td>\n",
       "      <td>-0.704431</td>\n",
       "      <td>-0.276938</td>\n",
       "    </tr>\n",
       "    <tr>\n",
       "      <th>Wind Speed_km/h</th>\n",
       "      <td>-0.134863</td>\n",
       "      <td>-0.147609</td>\n",
       "      <td>-0.034823</td>\n",
       "      <td>1.000000</td>\n",
       "      <td>-0.067362</td>\n",
       "      <td>-0.390025</td>\n",
       "    </tr>\n",
       "    <tr>\n",
       "      <th>Visibility_km</th>\n",
       "      <td>0.362585</td>\n",
       "      <td>0.130772</td>\n",
       "      <td>-0.704431</td>\n",
       "      <td>-0.067362</td>\n",
       "      <td>1.000000</td>\n",
       "      <td>0.267491</td>\n",
       "    </tr>\n",
       "    <tr>\n",
       "      <th>Press_kPa</th>\n",
       "      <td>-0.116465</td>\n",
       "      <td>-0.213293</td>\n",
       "      <td>-0.276938</td>\n",
       "      <td>-0.390025</td>\n",
       "      <td>0.267491</td>\n",
       "      <td>1.000000</td>\n",
       "    </tr>\n",
       "  </tbody>\n",
       "</table>\n",
       "</div>"
      ],
      "text/plain": [
       "                    Temp_C  Dew Point Temp_C  Rel Hum_%  Wind Speed_km/h  \\\n",
       "Temp_C            1.000000          0.938822  -0.229234        -0.134863   \n",
       "Dew Point Temp_C  0.938822          1.000000   0.113738        -0.147609   \n",
       "Rel Hum_%        -0.229234          0.113738   1.000000        -0.034823   \n",
       "Wind Speed_km/h  -0.134863         -0.147609  -0.034823         1.000000   \n",
       "Visibility_km     0.362585          0.130772  -0.704431        -0.067362   \n",
       "Press_kPa        -0.116465         -0.213293  -0.276938        -0.390025   \n",
       "\n",
       "                  Visibility_km  Press_kPa  \n",
       "Temp_C                 0.362585  -0.116465  \n",
       "Dew Point Temp_C       0.130772  -0.213293  \n",
       "Rel Hum_%             -0.704431  -0.276938  \n",
       "Wind Speed_km/h       -0.067362  -0.390025  \n",
       "Visibility_km          1.000000   0.267491  \n",
       "Press_kPa              0.267491   1.000000  "
      ]
     },
     "execution_count": 10,
     "metadata": {},
     "output_type": "execute_result"
    }
   ],
   "source": [
    "cols=['Temp_C', 'Dew Point Temp_C', 'Rel Hum_%', 'Wind Speed_km/h', \n",
    "      'Visibility_km','Press_kPa']\n",
    "cor_matrix=weather_df[cols].corr()\n",
    "cor_matrix"
   ]
  },
  {
   "cell_type": "markdown",
   "id": "a578a4e6",
   "metadata": {},
   "source": [
    "## Heat Map"
   ]
  },
  {
   "cell_type": "code",
   "execution_count": 11,
   "id": "cd35c7e6",
   "metadata": {},
   "outputs": [
    {
     "data": {
      "text/plain": [
       "<AxesSubplot:>"
      ]
     },
     "execution_count": 11,
     "metadata": {},
     "output_type": "execute_result"
    },
    {
     "data": {
      "image/png": "[encoded data removed]",
      "text/plain": [
       "<Figure size 432x288 with 2 Axes>"
      ]
     },
     "metadata": {
      "needs_background": "light"
     },
     "output_type": "display_data"
    }
   ],
   "source": [
    "sns.heatmap(cor_matrix, annot=True)"
   ]
  },
  {
   "cell_type": "markdown",
   "id": "1e42409f",
   "metadata": {},
   "source": [
    "## Label Encoding"
   ]
  },
  {
   "cell_type": "markdown",
   "id": "1a69a836",
   "metadata": {},
   "source": [
    "converting target variable into numeric"
   ]
  },
  {
   "cell_type": "code",
   "execution_count": 12,
   "id": "df70da73",
   "metadata": {},
   "outputs": [
    {
     "data": {
      "text/plain": [
       "(            Date/Time  Temp_C  Dew Point Temp_C  Rel Hum_%  Wind Speed_km/h  \\\n",
       " 4988  7/26/2012 20:00    20.5              17.6         83                4   \n",
       " 5317   8/9/2012 13:00    23.6              17.4         68               19   \n",
       " 4171  6/22/2012 19:00    25.7              11.7         42               11   \n",
       " 8123  12/4/2012 11:00    10.1               7.7         85               17   \n",
       " 2161   3/31/2012 1:00     1.3              -9.6         44               13   \n",
       " ...               ...     ...               ...        ...              ...   \n",
       " 4893  7/22/2012 21:00    26.9              17.0         55               15   \n",
       " 3295   5/17/2012 7:00    10.2               1.8         56               15   \n",
       " 1543    3/5/2012 7:00   -16.2             -22.3         59               22   \n",
       " 4096  6/19/2012 16:00    27.7              19.0         59               17   \n",
       " 5245   8/6/2012 13:00    21.4              13.7         61               13   \n",
       " \n",
       "       Visibility_km  Press_kPa        Weather Std_Weather  \n",
       " 4988           24.1      99.94  Mostly Cloudy      CLOUDY  \n",
       " 5317           24.1     100.94         Cloudy      CLOUDY  \n",
       " 4171           48.3     100.38  Mostly Cloudy      CLOUDY  \n",
       " 8123           24.1     101.06         Cloudy      CLOUDY  \n",
       " 2161           25.0     101.31  Mostly Cloudy      CLOUDY  \n",
       " ...             ...        ...            ...         ...  \n",
       " 4893           25.0     101.07  Mostly Cloudy      CLOUDY  \n",
       " 3295           48.3     101.45  Mostly Cloudy      CLOUDY  \n",
       " 1543           24.1     100.88  Mostly Cloudy      CLOUDY  \n",
       " 4096           24.1     100.87  Mostly Cloudy      CLOUDY  \n",
       " 5245           48.3     101.18  Mostly Cloudy      CLOUDY  \n",
       " \n",
       " [600 rows x 9 columns],\n",
       "              Date/Time  Temp_C  Dew Point Temp_C  Rel Hum_%  Wind Speed_km/h  \\\n",
       " 3862    6/9/2012 22:00    17.0               6.6         50                4   \n",
       " 5501    8/17/2012 5:00    17.6              15.3         86                7   \n",
       " 4800    7/19/2012 0:00    14.4              10.9         79                4   \n",
       " 3166   5/11/2012 22:00     7.7              -1.2         53                9   \n",
       " 7541   11/10/2012 5:00     0.7              -4.0         71                6   \n",
       " ...                ...     ...               ...        ...              ...   \n",
       " 4619   7/11/2012 11:00    24.9              10.1         39                9   \n",
       " 5494   8/16/2012 22:00    22.0              17.5         76                4   \n",
       " 7630  11/13/2012 22:00    -0.9              -5.7         70                7   \n",
       " 525    1/22/2012 21:00   -12.9             -17.2         70               15   \n",
       " 7758   11/19/2012 6:00    -4.3              -7.0         81                7   \n",
       " \n",
       "       Visibility_km  Press_kPa       Weather Std_Weather  \n",
       " 3862           25.0     100.93         Clear       CLEAR  \n",
       " 5501           25.0     100.30         Clear       CLEAR  \n",
       " 4800           25.0     101.14         Clear       CLEAR  \n",
       " 3166           25.0     101.15         Clear       CLEAR  \n",
       " 7541           25.0     101.98  Mainly Clear       CLEAR  \n",
       " ...             ...        ...           ...         ...  \n",
       " 4619           48.3     101.72  Mainly Clear       CLEAR  \n",
       " 5494           25.0     100.48  Mainly Clear       CLEAR  \n",
       " 7630           25.0     102.81         Clear       CLEAR  \n",
       " 525            16.1     102.38         Clear       CLEAR  \n",
       " 7758           25.0     103.01         Clear       CLEAR  \n",
       " \n",
       " [600 rows x 9 columns],\n",
       "              Date/Time  Temp_C  Dew Point Temp_C  Rel Hum_%  Wind Speed_km/h  \\\n",
       " 18      1/1/2012 18:00     3.8               1.0         82               15   \n",
       " 19      1/1/2012 19:00     3.1               1.3         88               15   \n",
       " 22      1/1/2012 22:00     4.4               1.9         84               24   \n",
       " 24       1/2/2012 0:00     5.2               1.5         77               35   \n",
       " 154     1/7/2012 10:00    -5.7              -8.0         84                7   \n",
       " ...                ...     ...               ...        ...              ...   \n",
       " 8538  12/21/2012 18:00     1.4               0.3         92               46   \n",
       " 8539  12/21/2012 19:00     2.3               1.1         92               37   \n",
       " 8540  12/21/2012 20:00     2.4               1.7         95               15   \n",
       " 8541  12/21/2012 21:00     1.3               0.4         94               22   \n",
       " 8545   12/22/2012 1:00     1.2               0.1         92               30   \n",
       " \n",
       "       Visibility_km  Press_kPa        Weather Std_Weather  \n",
       " 18             12.9      99.74           Rain        RAIN  \n",
       " 19             12.9      99.68           Rain        RAIN  \n",
       " 22             19.3      99.32   Rain Showers        RAIN  \n",
       " 24             25.0      99.26   Rain Showers        RAIN  \n",
       " 154             8.0     100.13  Freezing Rain        RAIN  \n",
       " ...             ...        ...            ...         ...  \n",
       " 8538           25.0      97.56           Rain        RAIN  \n",
       " 8539           11.3      97.52           Rain        RAIN  \n",
       " 8540            9.7      97.58           Rain        RAIN  \n",
       " 8541            9.7      97.64           Rain        RAIN  \n",
       " 8545           12.9      97.84        Drizzle        RAIN  \n",
       " \n",
       " [603 rows x 9 columns],\n",
       "              Date/Time  Temp_C  Dew Point Temp_C  Rel Hum_%  Wind Speed_km/h  \\\n",
       " 41      1/2/2012 17:00    -2.1              -9.5         57               22   \n",
       " 44      1/2/2012 20:00    -5.6             -13.4         54               24   \n",
       " 45      1/2/2012 21:00    -5.8             -12.8         58               26   \n",
       " 47      1/2/2012 23:00    -7.4             -14.1         59               17   \n",
       " 48       1/3/2012 0:00    -9.0             -16.0         57               28   \n",
       " ...                ...     ...               ...        ...              ...   \n",
       " 8779  12/31/2012 19:00     0.1              -2.7         81               30   \n",
       " 8780  12/31/2012 20:00     0.2              -2.4         83               24   \n",
       " 8781  12/31/2012 21:00    -0.5              -1.5         93               28   \n",
       " 8782  12/31/2012 22:00    -0.2              -1.8         89               28   \n",
       " 8783  12/31/2012 23:00     0.0              -2.1         86               30   \n",
       " \n",
       "       Visibility_km  Press_kPa       Weather Std_Weather  \n",
       " 41             25.0      99.66  Snow Showers        SNOW  \n",
       " 44             25.0     100.07  Snow Showers        SNOW  \n",
       " 45             25.0     100.15  Snow Showers        SNOW  \n",
       " 47             19.3     100.27  Snow Showers        SNOW  \n",
       " 48             25.0     100.35  Snow Showers        SNOW  \n",
       " ...             ...        ...           ...         ...  \n",
       " 8779            9.7     100.13          Snow        SNOW  \n",
       " 8780            9.7     100.03          Snow        SNOW  \n",
       " 8781            4.8      99.95          Snow        SNOW  \n",
       " 8782            9.7      99.91          Snow        SNOW  \n",
       " 8783           11.3      99.89          Snow        SNOW  \n",
       " \n",
       " [556 rows x 9 columns],\n",
       "              Date/Time  Temp_C  Dew Point Temp_C  Rel Hum_%  Wind Speed_km/h  \\\n",
       " 0        1/1/2012 0:00    -1.8              -3.9         86                4   \n",
       " 1        1/1/2012 1:00    -1.8              -3.7         87                4   \n",
       " 2        1/1/2012 2:00    -1.8              -3.4         89                7   \n",
       " 3        1/1/2012 3:00    -1.5              -3.2         88                6   \n",
       " 4        1/1/2012 4:00    -1.5              -3.3         88                7   \n",
       " ...                ...     ...               ...        ...              ...   \n",
       " 8716   12/29/2012 4:00   -16.0             -17.2         90                6   \n",
       " 8717   12/29/2012 5:00   -14.8             -15.9         91                4   \n",
       " 8718   12/29/2012 6:00   -13.8             -15.3         88                4   \n",
       " 8719   12/29/2012 7:00   -14.8             -16.4         88                7   \n",
       " 8722  12/29/2012 10:00   -12.0             -13.3         90                7   \n",
       " \n",
       "       Visibility_km  Press_kPa               Weather Std_Weather  \n",
       " 0               8.0     101.24                   Fog         FOG  \n",
       " 1               8.0     101.24                   Fog         FOG  \n",
       " 2               4.0     101.26  Freezing Drizzle,Fog         FOG  \n",
       " 3               4.0     101.27  Freezing Drizzle,Fog         FOG  \n",
       " 4               4.8     101.23                   Fog         FOG  \n",
       " ...             ...        ...                   ...         ...  \n",
       " 8716            9.7     101.25                   Fog         FOG  \n",
       " 8717            6.4     101.25                   Fog         FOG  \n",
       " 8718            9.7     101.25                   Fog         FOG  \n",
       " 8719            8.0     101.22                   Fog         FOG  \n",
       " 8722            6.4     101.15                   Fog         FOG  \n",
       " \n",
       " [241 rows x 9 columns])"
      ]
     },
     "execution_count": 12,
     "metadata": {},
     "output_type": "execute_result"
    }
   ],
   "source": [
    "from sklearn.preprocessing import LabelEncoder\n",
    "label_Encoder = LabelEncoder()\n",
    "weather_df['Std_Weather']=label_Encoder.fit_transform(\n",
    "    weather_df['Std_Weather'])\n",
    "weather_df.head(100)\n",
    "weather_df['Std_Weather'].unique()\n",
    "cloudy_df_sample,clear_df,rain_df,snow_df,fog_df"
   ]
  },
  {
   "cell_type": "markdown",
   "id": "52ec371b",
   "metadata": {},
   "source": [
    "## x,y variables"
   ]
  },
  {
   "cell_type": "code",
   "execution_count": 13,
   "id": "8751277c",
   "metadata": {},
   "outputs": [
    {
     "name": "stdout",
     "output_type": "stream",
     "text": [
      "      Temp_C  Dew Point Temp_C  Rel Hum_%  Wind Speed_km/h  Visibility_km  \\\n",
      "4988    20.5              17.6         83                4           24.1   \n",
      "5317    23.6              17.4         68               19           24.1   \n",
      "4171    25.7              11.7         42               11           48.3   \n",
      "8123    10.1               7.7         85               17           24.1   \n",
      "2161     1.3              -9.6         44               13           25.0   \n",
      "\n",
      "      Press_kPa  \n",
      "4988      99.94  \n",
      "5317     100.94  \n",
      "4171     100.38  \n",
      "8123     101.06  \n",
      "2161     101.31  \n",
      "4988    1\n",
      "5317    1\n",
      "4171    1\n",
      "8123    1\n",
      "2161    1\n",
      "       ..\n",
      "8716    2\n",
      "8717    2\n",
      "8718    2\n",
      "8719    2\n",
      "8722    2\n",
      "Name: Std_Weather, Length: 2600, dtype: int32\n"
     ]
    }
   ],
   "source": [
    "# Independent Variables\n",
    "x=weather_df.drop([\"Std_Weather\"],axis=1)\n",
    "#Target variables:\n",
    "y=weather_df[\"Std_Weather\"]\n",
    "print(x.head())\n",
    "y.head()\n",
    "print(y)"
   ]
  },
  {
   "cell_type": "markdown",
   "id": "4255019e",
   "metadata": {},
   "source": [
    "## Feature Scaling"
   ]
  },
  {
   "cell_type": "code",
   "execution_count": 14,
   "id": "02921124",
   "metadata": {},
   "outputs": [
    {
     "data": {
      "text/plain": [
       "array([[ 1.25970077,  1.52949626,  0.54971882, -1.28124118,  0.18178813,\n",
       "        -0.96102149],\n",
       "       [ 1.53885615,  1.51018195, -0.36491573,  0.33481335,  0.18178813,\n",
       "         0.11227969],\n",
       "       [ 1.7279614 ,  0.9597242 , -1.95028228, -0.5270824 ,  2.00858275,\n",
       "        -0.48876897],\n",
       "       ...,\n",
       "       [-1.82901842, -1.64770725,  0.854597  , -1.28124118, -0.90523016,\n",
       "         0.44500305],\n",
       "       [-1.91906854, -1.75393593,  0.854597  , -0.95803028, -1.0335587 ,\n",
       "         0.41280402],\n",
       "       [-1.6669282 , -1.45456418,  0.97654827, -0.95803028, -1.15433851,\n",
       "         0.33767293]])"
      ]
     },
     "execution_count": 14,
     "metadata": {},
     "output_type": "execute_result"
    }
   ],
   "source": [
    "from sklearn.preprocessing import StandardScaler\n",
    "std_scaler=StandardScaler()\n",
    "X_std=std_scaler.fit_transform(x)\n",
    "X_std"
   ]
  },
  {
   "cell_type": "markdown",
   "id": "932fcfe1",
   "metadata": {},
   "source": [
    "## Splitting Data into training and testing "
   ]
  },
  {
   "cell_type": "code",
   "execution_count": 15,
   "id": "154db860",
   "metadata": {},
   "outputs": [
    {
     "data": {
      "text/plain": [
       "((2080, 6), (520, 6))"
      ]
     },
     "execution_count": 15,
     "metadata": {},
     "output_type": "execute_result"
    }
   ],
   "source": [
    "from sklearn.model_selection import train_test_split\n",
    "x_train,x_test,y_train,y_test=train_test_split(\n",
    "    x,y,test_size=0.2,random_state=42)\n",
    "x_train.shape,x_test.shape"
   ]
  },
  {
   "cell_type": "markdown",
   "id": "d7808fee",
   "metadata": {},
   "source": [
    "## Model Building"
   ]
  },
  {
   "cell_type": "code",
   "execution_count": 16,
   "id": "224f3e3a",
   "metadata": {},
   "outputs": [],
   "source": [
    "from sklearn.linear_model import LogisticRegression\n",
    "from sklearn.tree import DecisionTreeClassifier\n",
    "from sklearn.ensemble import RandomForestClassifier\n",
    "\n",
    "lr_model = LogisticRegression()\n",
    "dt_model=DecisionTreeClassifier()\n",
    "rf_model=RandomForestClassifier()"
   ]
  },
  {
   "cell_type": "markdown",
   "id": "3dc9eace",
   "metadata": {},
   "source": [
    "## Model Training"
   ]
  },
  {
   "cell_type": "code",
   "execution_count": 17,
   "id": "aa01de3d",
   "metadata": {},
   "outputs": [
    {
     "name": "stderr",
     "output_type": "stream",
     "text": [
      "D:\\python\\lib\\site-packages\\sklearn\\linear_model\\_logistic.py:814: ConvergenceWarning: lbfgs failed to converge (status=1):\n",
      "STOP: TOTAL NO. of ITERATIONS REACHED LIMIT.\n",
      "\n",
      "Increase the number of iterations (max_iter) or scale the data as shown in:\n",
      "    https://scikit-learn.org/stable/modules/preprocessing.html\n",
      "Please also refer to the documentation for alternative solver options:\n",
      "    https://scikit-learn.org/stable/modules/linear_model.html#logistic-regression\n",
      "  n_iter_i = _check_optimize_result(\n"
     ]
    },
    {
     "name": "stdout",
     "output_type": "stream",
     "text": [
      "LogisticRegression()\n",
      "DecisionTreeClassifier()\n",
      "RandomForestClassifier()\n"
     ]
    }
   ],
   "source": [
    "print(lr_model.fit(x_train,y_train))\n",
    "print(dt_model.fit(x_train,y_train))\n",
    "print(rf_model.fit(x_train,y_train))"
   ]
  },
  {
   "cell_type": "markdown",
   "id": "1df339ee",
   "metadata": {},
   "source": [
    "## Model Prediction"
   ]
  },
  {
   "cell_type": "code",
   "execution_count": 18,
   "id": "b5d0f464",
   "metadata": {},
   "outputs": [
    {
     "name": "stdout",
     "output_type": "stream",
     "text": [
      "[3 0 3 4 3 4 1 0 0 4 4 3 1 3 3 1 3 3 3 0 4 0 4 3 4 3 4 0 0 0 1 4 0 1 2 3 1\n",
      " 1 4 3 3 0 0 0 4 1 2 3 4 1 3 0 1 3 3 0 0 3 2 3 0 3 3 2 3 3 3 4 1 2 3 0 1 4\n",
      " 3 3 4 0 3 3 4 0 3 1 2 2 4 3 3 3 0 0 0 4 0 3 2 4 0 1 3 3 0 3 1 3 4 0 4 1 0\n",
      " 4 3 4 3 3 0 3 3 3 3 2 1 3 0 3 2 0 0 4 4 3 4 4 4 1 1 4 2 0 0 4 4 1 4 2 4 0\n",
      " 4 3 3 4 1 4 0 1 3 1 0 4 0 3 2 1 0 0 3 4 1 4 3 1 1 0 4 3 1 1 2 4 2 0 1 4 4\n",
      " 0 2 0 4 0 1 3 4 4 3 2 4 3 4 0 0 4 3 0 0 1 3 0 0 0 2 4 4 0 4 0 3 4 3 0 2 4\n",
      " 1 1 4 3 3 4 3 3 0 3 4 2 4 4 4 1 1 1 3 3 2 0 1 1 3 1 1 1 1 1 2 2 2 0 4 4 0\n",
      " 4 4 4 0 4 4 0 0 3 0 2 0 0 0 0 0 2 0 0 0 0 4 3 1 0 2 3 4 4 3 3 0 1 0 4 1 4\n",
      " 4 4 2 4 4 3 0 0 4 1 4 4 4 1 4 3 4 3 0 1 4 0 1 1 3 0 4 3 0 3 1 3 4 4 4 4 0\n",
      " 1 4 4 3 4 0 3 4 3 4 3 1 4 3 3 4 4 0 3 1 0 1 0 0 2 0 0 4 0 4 3 4 1 0 4 0 4\n",
      " 4 0 0 1 4 0 1 1 1 0 0 3 3 4 3 0 4 4 3 1 3 4 4 4 0 4 0 3 0 4 3 2 0 4 3 3 0\n",
      " 0 2 3 3 4 3 2 0 3 4 3 2 1 3 1 4 0 4 3 2 0 3 0 3 4 1 4 1 0 1 2 2 0 1 0 4 1\n",
      " 4 0 3 2 4 3 0 3 3 3 0 0 0 3 0 3 4 3 0 4 1 3 1 3 2 3 3 0 3 2 0 4 1 4 3 0 2\n",
      " 1 4 3 0 0 0 4 0 1 1 4 4 2 4 0 1 0 0 2 3 4 1 4 2 2 3 1 0 1 0 4 1 0 2 4 4 1\n",
      " 1 3]\n"
     ]
    }
   ],
   "source": [
    "y_pred_lr=lr_model.predict(x_test)\n",
    "y_pred_dt=dt_model.predict(x_test)\n",
    "y_pred_rf=rf_model.predict(x_test)\n",
    "print(y_pred_lr)"
   ]
  },
  {
   "cell_type": "code",
   "execution_count": 19,
   "id": "3c0b9297",
   "metadata": {},
   "outputs": [
    {
     "name": "stdout",
     "output_type": "stream",
     "text": [
      "[0]\n"
     ]
    },
    {
     "name": "stderr",
     "output_type": "stream",
     "text": [
      "D:\\python\\lib\\site-packages\\sklearn\\base.py:450: UserWarning: X does not have valid feature names, but DecisionTreeClassifier was fitted with feature names\n",
      "  warnings.warn(\n"
     ]
    }
   ],
   "source": [
    "l = [[25,14,52,6,16,1015]]\n",
    "y_pred_rf = dt_model.predict(l)\n",
    "print(y_pred_rf)"
   ]
  },
  {
   "cell_type": "markdown",
   "id": "cc6b2067",
   "metadata": {},
   "source": [
    "## Model Evaluation"
   ]
  },
  {
   "cell_type": "code",
   "execution_count": 20,
   "id": "3527158e",
   "metadata": {},
   "outputs": [],
   "source": [
    "from sklearn.metrics import accuracy_score\n",
    "from sklearn.metrics import confusion_matrix"
   ]
  },
  {
   "cell_type": "markdown",
   "id": "492dc0b5",
   "metadata": {},
   "source": [
    "## Accuracy"
   ]
  },
  {
   "cell_type": "code",
   "execution_count": 21,
   "id": "1b64f2ef",
   "metadata": {},
   "outputs": [
    {
     "name": "stdout",
     "output_type": "stream",
     "text": [
      "0.5903846153846154\n",
      "0.6442307692307693\n"
     ]
    },
    {
     "ename": "ValueError",
     "evalue": "Found input variables with inconsistent numbers of samples: [520, 1]",
     "output_type": "error",
     "traceback": [
      "\u001b[1;31m---------------------------------------------------------------------------\u001b[0m",
      "\u001b[1;31mValueError\u001b[0m                                Traceback (most recent call last)",
      "Input \u001b[1;32mIn [21]\u001b[0m, in \u001b[0;36m<cell line: 3>\u001b[1;34m()\u001b[0m\n\u001b[0;32m      1\u001b[0m \u001b[38;5;28mprint\u001b[39m(accuracy_score(y_test,y_pred_lr))\n\u001b[0;32m      2\u001b[0m \u001b[38;5;28mprint\u001b[39m(accuracy_score(y_test,y_pred_dt))\n\u001b[1;32m----> 3\u001b[0m \u001b[38;5;28mprint\u001b[39m(\u001b[43maccuracy_score\u001b[49m\u001b[43m(\u001b[49m\u001b[43my_test\u001b[49m\u001b[43m,\u001b[49m\u001b[43my_pred_rf\u001b[49m\u001b[43m)\u001b[49m)\n",
      "File \u001b[1;32mD:\\python\\lib\\site-packages\\sklearn\\metrics\\_classification.py:211\u001b[0m, in \u001b[0;36maccuracy_score\u001b[1;34m(y_true, y_pred, normalize, sample_weight)\u001b[0m\n\u001b[0;32m    145\u001b[0m \u001b[38;5;124;03m\"\"\"Accuracy classification score.\u001b[39;00m\n\u001b[0;32m    146\u001b[0m \n\u001b[0;32m    147\u001b[0m \u001b[38;5;124;03mIn multilabel classification, this function computes subset accuracy:\u001b[39;00m\n\u001b[1;32m   (...)\u001b[0m\n\u001b[0;32m    207\u001b[0m \u001b[38;5;124;03m0.5\u001b[39;00m\n\u001b[0;32m    208\u001b[0m \u001b[38;5;124;03m\"\"\"\u001b[39;00m\n\u001b[0;32m    210\u001b[0m \u001b[38;5;66;03m# Compute accuracy for each possible representation\u001b[39;00m\n\u001b[1;32m--> 211\u001b[0m y_type, y_true, y_pred \u001b[38;5;241m=\u001b[39m \u001b[43m_check_targets\u001b[49m\u001b[43m(\u001b[49m\u001b[43my_true\u001b[49m\u001b[43m,\u001b[49m\u001b[43m \u001b[49m\u001b[43my_pred\u001b[49m\u001b[43m)\u001b[49m\n\u001b[0;32m    212\u001b[0m check_consistent_length(y_true, y_pred, sample_weight)\n\u001b[0;32m    213\u001b[0m \u001b[38;5;28;01mif\u001b[39;00m y_type\u001b[38;5;241m.\u001b[39mstartswith(\u001b[38;5;124m\"\u001b[39m\u001b[38;5;124mmultilabel\u001b[39m\u001b[38;5;124m\"\u001b[39m):\n",
      "File \u001b[1;32mD:\\python\\lib\\site-packages\\sklearn\\metrics\\_classification.py:84\u001b[0m, in \u001b[0;36m_check_targets\u001b[1;34m(y_true, y_pred)\u001b[0m\n\u001b[0;32m     57\u001b[0m \u001b[38;5;28;01mdef\u001b[39;00m \u001b[38;5;21m_check_targets\u001b[39m(y_true, y_pred):\n\u001b[0;32m     58\u001b[0m     \u001b[38;5;124;03m\"\"\"Check that y_true and y_pred belong to the same classification task.\u001b[39;00m\n\u001b[0;32m     59\u001b[0m \n\u001b[0;32m     60\u001b[0m \u001b[38;5;124;03m    This converts multiclass or binary types to a common shape, and raises a\u001b[39;00m\n\u001b[1;32m   (...)\u001b[0m\n\u001b[0;32m     82\u001b[0m \u001b[38;5;124;03m    y_pred : array or indicator matrix\u001b[39;00m\n\u001b[0;32m     83\u001b[0m \u001b[38;5;124;03m    \"\"\"\u001b[39;00m\n\u001b[1;32m---> 84\u001b[0m     \u001b[43mcheck_consistent_length\u001b[49m\u001b[43m(\u001b[49m\u001b[43my_true\u001b[49m\u001b[43m,\u001b[49m\u001b[43m \u001b[49m\u001b[43my_pred\u001b[49m\u001b[43m)\u001b[49m\n\u001b[0;32m     85\u001b[0m     type_true \u001b[38;5;241m=\u001b[39m type_of_target(y_true)\n\u001b[0;32m     86\u001b[0m     type_pred \u001b[38;5;241m=\u001b[39m type_of_target(y_pred)\n",
      "File \u001b[1;32mD:\\python\\lib\\site-packages\\sklearn\\utils\\validation.py:332\u001b[0m, in \u001b[0;36mcheck_consistent_length\u001b[1;34m(*arrays)\u001b[0m\n\u001b[0;32m    330\u001b[0m uniques \u001b[38;5;241m=\u001b[39m np\u001b[38;5;241m.\u001b[39munique(lengths)\n\u001b[0;32m    331\u001b[0m \u001b[38;5;28;01mif\u001b[39;00m \u001b[38;5;28mlen\u001b[39m(uniques) \u001b[38;5;241m>\u001b[39m \u001b[38;5;241m1\u001b[39m:\n\u001b[1;32m--> 332\u001b[0m     \u001b[38;5;28;01mraise\u001b[39;00m \u001b[38;5;167;01mValueError\u001b[39;00m(\n\u001b[0;32m    333\u001b[0m         \u001b[38;5;124m\"\u001b[39m\u001b[38;5;124mFound input variables with inconsistent numbers of samples: \u001b[39m\u001b[38;5;132;01m%r\u001b[39;00m\u001b[38;5;124m\"\u001b[39m\n\u001b[0;32m    334\u001b[0m         \u001b[38;5;241m%\u001b[39m [\u001b[38;5;28mint\u001b[39m(l) \u001b[38;5;28;01mfor\u001b[39;00m l \u001b[38;5;129;01min\u001b[39;00m lengths]\n\u001b[0;32m    335\u001b[0m     )\n",
      "\u001b[1;31mValueError\u001b[0m: Found input variables with inconsistent numbers of samples: [520, 1]"
     ]
    }
   ],
   "source": [
    "print(accuracy_score(y_test,y_pred_lr))\n",
    "print(accuracy_score(y_test,y_pred_dt))\n",
    "print(accuracy_score(y_test,y_pred_rf))"
   ]
  },
  {
   "cell_type": "markdown",
   "id": "f99ddd3b",
   "metadata": {},
   "source": [
    "## Confusion Matrix"
   ]
  },
  {
   "cell_type": "code",
   "execution_count": null,
   "id": "f6e4f620",
   "metadata": {},
   "outputs": [],
   "source": [
    "cm_rf=confusion_matrix(y_test,y_pred_rf)\n",
    "print(sns.heatmap(cm_rf,annot=True,fmt='d'))"
   ]
  },
  {
   "cell_type": "code",
   "execution_count": null,
   "id": "38c357d2",
   "metadata": {},
   "outputs": [],
   "source": []
  }
 ],
 "metadata": {
  "kernelspec": {
   "display_name": "Python 3 (ipykernel)",
   "language": "python",
   "name": "python3"
  },
  "language_info": {
   "codemirror_mode": {
    "name": "ipython",
    "version": 3
   },
   "file_extension": ".py",
   "mimetype": "text/x-python",
   "name": "python",
   "nbconvert_exporter": "python",
   "pygments_lexer": "ipython3",
   "version": "3.9.12"
  }
 },
 "nbformat": 4,
 "nbformat_minor": 5
}
